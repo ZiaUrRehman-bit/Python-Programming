{
 "cells": [
  {
   "cell_type": "markdown",
   "id": "c0cd1578",
   "metadata": {},
   "source": [
    "# Functions"
   ]
  },
  {
   "cell_type": "code",
   "execution_count": 1,
   "id": "752592d1",
   "metadata": {},
   "outputs": [],
   "source": [
    "# function is a block of code which perform multiple task\n",
    "# for example banking :   deposit function, withdraw function, balance function etc.\n",
    "\n",
    "def myfunc():\n",
    "    print(\"My name is Zia\")"
   ]
  },
  {
   "cell_type": "code",
   "execution_count": 2,
   "id": "b3fc93a7",
   "metadata": {},
   "outputs": [
    {
     "name": "stdout",
     "output_type": "stream",
     "text": [
      "My name is Zia\n"
     ]
    }
   ],
   "source": [
    "myfunc()"
   ]
  },
  {
   "cell_type": "code",
   "execution_count": 3,
   "id": "2eb889db",
   "metadata": {},
   "outputs": [],
   "source": [
    "# lets crate a function which takes a value and return that value by adding 10 in it\n",
    "\n",
    "def valFunc(a):\n",
    "    return a+10"
   ]
  },
  {
   "cell_type": "code",
   "execution_count": 4,
   "id": "457830a5",
   "metadata": {},
   "outputs": [
    {
     "data": {
      "text/plain": [
       "30"
      ]
     },
     "execution_count": 4,
     "metadata": {},
     "output_type": "execute_result"
    }
   ],
   "source": [
    "valFunc(20)"
   ]
  },
  {
   "cell_type": "code",
   "execution_count": 5,
   "id": "bfdad894",
   "metadata": {},
   "outputs": [
    {
     "data": {
      "text/plain": [
       "13"
      ]
     },
     "execution_count": 5,
     "metadata": {},
     "output_type": "execute_result"
    }
   ],
   "source": [
    "valFunc(3)"
   ]
  },
  {
   "cell_type": "code",
   "execution_count": 6,
   "id": "08b95961",
   "metadata": {},
   "outputs": [],
   "source": [
    "# now we are creating function which takes integer and check if the num is even or odd\n",
    "\n",
    "def chkEvenOdd(a):\n",
    "    if a%2 == 0:\n",
    "        print(\"Number is Even\")\n",
    "    else:\n",
    "        print(\"Number is odd\")"
   ]
  },
  {
   "cell_type": "code",
   "execution_count": 9,
   "id": "79a78d13",
   "metadata": {},
   "outputs": [
    {
     "name": "stdout",
     "output_type": "stream",
     "text": [
      "Number is odd\n"
     ]
    }
   ],
   "source": [
    "chkEvenOdd(11)"
   ]
  },
  {
   "cell_type": "code",
   "execution_count": 17,
   "id": "597c3216",
   "metadata": {},
   "outputs": [
    {
     "name": "stdout",
     "output_type": "stream",
     "text": [
      "Number is Even\n"
     ]
    }
   ],
   "source": [
    "chkEvenOdd(0)"
   ]
  },
  {
   "cell_type": "markdown",
   "id": "732e8893",
   "metadata": {},
   "source": [
    "# Lambda Function\n",
    "it is also called as annonmous function, because this function have no name, in single we write functionality and also give parametres. do not need to define"
   ]
  },
  {
   "cell_type": "code",
   "execution_count": 10,
   "id": "0e5c2261",
   "metadata": {},
   "outputs": [],
   "source": [
    "a = lambda x: x*x*x"
   ]
  },
  {
   "cell_type": "code",
   "execution_count": 11,
   "id": "c1952147",
   "metadata": {},
   "outputs": [
    {
     "data": {
      "text/plain": [
       "8"
      ]
     },
     "execution_count": 11,
     "metadata": {},
     "output_type": "execute_result"
    }
   ],
   "source": [
    "a(2)"
   ]
  },
  {
   "cell_type": "code",
   "execution_count": 12,
   "id": "fa6369b1",
   "metadata": {},
   "outputs": [],
   "source": [
    "# lambda wth filter function\n",
    "\n",
    "l1 = [3,5,7,11,33,22,55,66,88,2]\n",
    "\n",
    "# it takes two parameter lambda function and list\n",
    "a1 = list(filter(lambda x: (x%2 != 0), l1))  # Takes odd values and store in new list"
   ]
  },
  {
   "cell_type": "code",
   "execution_count": 13,
   "id": "51b848d9",
   "metadata": {},
   "outputs": [
    {
     "data": {
      "text/plain": [
       "[3, 5, 7, 11, 33, 55]"
      ]
     },
     "execution_count": 13,
     "metadata": {},
     "output_type": "execute_result"
    }
   ],
   "source": [
    "a1"
   ]
  },
  {
   "cell_type": "code",
   "execution_count": 14,
   "id": "5e6dba27",
   "metadata": {},
   "outputs": [
    {
     "data": {
      "text/plain": [
       "[2, 4, 6, 8, 10, 12, 14]"
      ]
     },
     "execution_count": 14,
     "metadata": {},
     "output_type": "execute_result"
    }
   ],
   "source": [
    "# lambda with map\n",
    "\n",
    "l1 = [1,2,3,4,5,6,7]\n",
    "\n",
    "# task is multiply each value with 2\n",
    "res = list(map(lambda x: x*2, l1))\n",
    "res"
   ]
  },
  {
   "cell_type": "code",
   "execution_count": 16,
   "id": "8378825d",
   "metadata": {},
   "outputs": [
    {
     "data": {
      "text/plain": [
       "28"
      ]
     },
     "execution_count": 16,
     "metadata": {},
     "output_type": "execute_result"
    }
   ],
   "source": [
    "# lambda with reduce\n",
    "# final result from any sequence\n",
    "\n",
    "from functools import reduce\n",
    "\n",
    "sum = reduce(lambda x,y: x+y, l1)\n",
    "sum"
   ]
  },
  {
   "cell_type": "markdown",
   "id": "d9e93825",
   "metadata": {},
   "source": [
    "# Tasks"
   ]
  },
  {
   "cell_type": "code",
   "execution_count": 19,
   "id": "5edae7a1",
   "metadata": {},
   "outputs": [
    {
     "data": {
      "text/plain": [
       "6"
      ]
     },
     "execution_count": 19,
     "metadata": {},
     "output_type": "execute_result"
    }
   ],
   "source": [
    "# 1. Find the sum of a and b by function\n",
    "\n",
    "def addAB(a,b):\n",
    "    return a+b\n",
    "addAB(2,4)"
   ]
  },
  {
   "cell_type": "code",
   "execution_count": 21,
   "id": "e5fbd77d",
   "metadata": {},
   "outputs": [
    {
     "name": "stdout",
     "output_type": "stream",
     "text": [
      "82 7 84 68 18 70 53 8 1 83 85 92 1 100 80 6 94 78 20 54 57 81 95 61 46 23 20 5 78 70 14 26 65 44 67 82 27 30 29 2 16 63 29 99 50 41 98 47 97 24 17 6 78 40 40 59 90 14 26 21 99 23 1 15 84 20 39 54 33 93 41 86 12 54 23 52 14 80 71 64 37 11 99 69 95 8 78 31 62 45 39 27 94 53 50 49 96 90 46 53 "
     ]
    }
   ],
   "source": [
    "# 2. Write a program that generate 100 random numbers 1-100 and print on screen\n",
    "from random import randint\n",
    "i = 0\n",
    "while i < 100:\n",
    "    print(randint(1,100), end=' ')\n",
    "    i += 1\n",
    "    "
   ]
  },
  {
   "cell_type": "code",
   "execution_count": 22,
   "id": "bcf18eae",
   "metadata": {},
   "outputs": [
    {
     "name": "stdout",
     "output_type": "stream",
     "text": [
      "2 4 6 8 10 12 14 16 18 20 22 24 26 28 30 32 34 36 38 40 42 44 46 48 50 52 54 56 58 60 62 64 66 68 70 72 74 76 78 80 82 84 86 88 90 92 94 96 98 100 102 104 106 108 110 112 114 116 118 120 122 124 126 128 130 132 134 136 138 140 142 144 146 148 150 152 154 156 158 160 162 164 166 168 170 172 174 176 178 180 182 184 186 188 190 192 194 196 198 "
     ]
    }
   ],
   "source": [
    "# 3. Write a program that print even numbers between the range of 1-200\n",
    "\n",
    "for i in range(1,200):\n",
    "    if i%2 == 0:\n",
    "        print(i, end = \" \")\n",
    "\n"
   ]
  },
  {
   "cell_type": "markdown",
   "id": "f53efbbb",
   "metadata": {},
   "source": [
    "# Task no. 4:\n",
    "## Write a program that asks the user for a weight in kilograms and converts it to pounds.\n",
    "\n",
    "### Formula \n",
    "#### pounds = kilogram * 2.2\n"
   ]
  },
  {
   "cell_type": "code",
   "execution_count": 1,
   "id": "4cde8cdb",
   "metadata": {},
   "outputs": [
    {
     "name": "stdout",
     "output_type": "stream",
     "text": [
      "Enter kilogram: 33.4\n",
      "33.4 kg in pounds = 73.48 pounds\n"
     ]
    }
   ],
   "source": [
    "# take input from user\n",
    "\n",
    "kg = float(input(\"Enter kilogram: \"))\n",
    "\n",
    "pounds = lambda x: x*2.2\n",
    "\n",
    "print(f\"{kg} kg in pounds = {pounds(kg)} pounds\")"
   ]
  },
  {
   "cell_type": "markdown",
   "id": "c7e66289",
   "metadata": {},
   "source": [
    "# Task no. 05\n",
    "##### 1. Write a program that generates a list of 20 random numbers between 1 and 100.\n",
    "##### 2. Print the list.\n",
    "##### 3. Print the average of the elements in the list.\n",
    "##### 4. Print the largest and smallest values in the list.\n",
    "##### 5. Print the second largest and second smallest entries in the list\n",
    "##### 6. Print how many even numbers are in the list.\n"
   ]
  },
  {
   "cell_type": "markdown",
   "id": "0cd68c7b",
   "metadata": {},
   "source": [
    "### 1. creating list of 20 random numbers between 1 to 100"
   ]
  },
  {
   "cell_type": "code",
   "execution_count": 4,
   "id": "be502455",
   "metadata": {},
   "outputs": [],
   "source": [
    "from random import randint\n",
    "\n",
    "rndList = []\n",
    "\n",
    "i = 0\n",
    "\n",
    "while i < 20:\n",
    "    \n",
    "    rndList.append(randint(1,100))\n",
    "    i += 1"
   ]
  },
  {
   "cell_type": "markdown",
   "id": "70e659c2",
   "metadata": {},
   "source": [
    "### 2. print that list"
   ]
  },
  {
   "cell_type": "code",
   "execution_count": 5,
   "id": "53822651",
   "metadata": {},
   "outputs": [
    {
     "name": "stdout",
     "output_type": "stream",
     "text": [
      "[42, 10, 41, 83, 2, 80, 24, 65, 23, 8, 15, 10, 42, 71, 65, 53, 17, 50, 33, 28] "
     ]
    }
   ],
   "source": [
    "print(rndList, end = ' ')"
   ]
  },
  {
   "cell_type": "markdown",
   "id": "6cf954dd",
   "metadata": {},
   "source": [
    "### 3. Print the average of the elements in the list."
   ]
  },
  {
   "cell_type": "code",
   "execution_count": 6,
   "id": "8fbd0e03",
   "metadata": {},
   "outputs": [
    {
     "name": "stdout",
     "output_type": "stream",
     "text": [
      "The average of list elements is = 38.1\n"
     ]
    }
   ],
   "source": [
    "print(f'The average of list elements is = {round(sum(rndList)/len(rndList), 2)}')"
   ]
  },
  {
   "cell_type": "markdown",
   "id": "6add43ff",
   "metadata": {},
   "source": [
    "### 4. Print the largest and smallest values in the list."
   ]
  },
  {
   "cell_type": "code",
   "execution_count": 7,
   "id": "1a923a36",
   "metadata": {},
   "outputs": [
    {
     "name": "stdout",
     "output_type": "stream",
     "text": [
      "The largest number is 83 and the smallest number is 2\n"
     ]
    }
   ],
   "source": [
    "print(f\"The largest number is {max(rndList)} and the smallest number is {min(rndList)}\")"
   ]
  },
  {
   "cell_type": "markdown",
   "id": "75283091",
   "metadata": {},
   "source": [
    "### 5. Print the second largest and second smallest entries in the list"
   ]
  },
  {
   "cell_type": "code",
   "execution_count": 8,
   "id": "52044a2b",
   "metadata": {},
   "outputs": [
    {
     "name": "stdout",
     "output_type": "stream",
     "text": [
      "[2, 8, 10, 10, 15, 17, 23, 24, 28, 33, 41, 42, 42, 50, 53, 65, 65, 71, 80, 83] \n",
      "The second smallest number is 8\n",
      "The second highest number is 80\n"
     ]
    }
   ],
   "source": [
    "rndList.sort()\n",
    "print(rndList, end = \" \")\n",
    "print(f\"\\nThe second smallest number is {rndList[1]}\")\n",
    "print(f\"The second highest number is {rndList[-2]}\")"
   ]
  },
  {
   "cell_type": "markdown",
   "id": "deeec421",
   "metadata": {},
   "source": [
    "### 6. Print how many even numbers are in the list."
   ]
  },
  {
   "cell_type": "code",
   "execution_count": 9,
   "id": "df3589e2",
   "metadata": {},
   "outputs": [
    {
     "name": "stdout",
     "output_type": "stream",
     "text": [
      "The total even numbers are 10\n"
     ]
    }
   ],
   "source": [
    "\n",
    "evenNum = 0\n",
    "i = 0 \n",
    "while i < 20:\n",
    "    \n",
    "    if rndList[i] % 2 == 0:\n",
    "        evenNum += 1\n",
    "    i += 1\n",
    "\n",
    "print(f\"The total even numbers are {evenNum}\")\n"
   ]
  },
  {
   "cell_type": "markdown",
   "id": "ffef24e1",
   "metadata": {},
   "source": [
    "# Task no. 06:\n",
    "#### Write a program that asks the user for an integer and creates a list that consists of the factors of that integer.\n"
   ]
  },
  {
   "cell_type": "code",
   "execution_count": 11,
   "id": "e31fdf86",
   "metadata": {},
   "outputs": [
    {
     "name": "stdout",
     "output_type": "stream",
     "text": [
      "Enter an integer value: 44\n"
     ]
    },
    {
     "data": {
      "text/plain": [
       "[1, 2, 4, 11, 22, 44]"
      ]
     },
     "execution_count": 11,
     "metadata": {},
     "output_type": "execute_result"
    }
   ],
   "source": [
    "\n",
    "factList  = []\n",
    "\n",
    "num = int(input(\"Enter an integer value: \"))\n",
    "\n",
    "# nmubers which divides integer completely are called as its factors\n",
    "\n",
    "for i in range(1, num+1):  # num + 1, because range takes one less than second argument\n",
    "    \n",
    "    if num%i == 0:\n",
    "        factList.append(i)\n",
    "factList"
   ]
  },
  {
   "cell_type": "markdown",
   "id": "dba91d5c",
   "metadata": {},
   "source": [
    "# Task no.  07:\n",
    "#### Write a function called sum_digits that is given an integer num and returns the sum of the digits of num\n"
   ]
  },
  {
   "cell_type": "code",
   "execution_count": 20,
   "id": "28844e8f",
   "metadata": {},
   "outputs": [],
   "source": [
    "\n",
    "def sum_digits(num):\n",
    "    sumDigits = 0\n",
    "    for i in str(num):\n",
    "        sumDigits += int(i)\n",
    "    print(f\"The sum of numbers = {sumDigits}\")\n",
    "        "
   ]
  },
  {
   "cell_type": "code",
   "execution_count": 21,
   "id": "ad67bddb",
   "metadata": {},
   "outputs": [
    {
     "name": "stdout",
     "output_type": "stream",
     "text": [
      "The sum of numbers = 20\n"
     ]
    }
   ],
   "source": [
    "sum_digits(1244333)"
   ]
  },
  {
   "cell_type": "markdown",
   "id": "3a4377e1",
   "metadata": {},
   "source": [
    "# Task no. 08:\n",
    "#### Write a function called is_sorted that is given a list and returns True if the list is sorted and False otherwise\n"
   ]
  },
  {
   "cell_type": "code",
   "execution_count": 24,
   "id": "d650d170",
   "metadata": {},
   "outputs": [],
   "source": [
    "\n",
    "def is_sorted(l):\n",
    "    \n",
    "    if l == sorted(l):\n",
    "        print(\"List is sorted\")\n",
    "    else:\n",
    "        print(\"list is not sorted\")"
   ]
  },
  {
   "cell_type": "code",
   "execution_count": 25,
   "id": "0d4ea62f",
   "metadata": {},
   "outputs": [
    {
     "name": "stdout",
     "output_type": "stream",
     "text": [
      "list is not sorted\n"
     ]
    }
   ],
   "source": [
    "is_sorted([2,5,1,8,9])"
   ]
  },
  {
   "cell_type": "code",
   "execution_count": 26,
   "id": "9693869b",
   "metadata": {},
   "outputs": [
    {
     "name": "stdout",
     "output_type": "stream",
     "text": [
      "List is sorted\n"
     ]
    }
   ],
   "source": [
    "is_sorted([2,5,6,7,8,9])"
   ]
  },
  {
   "cell_type": "markdown",
   "id": "9c3da42f",
   "metadata": {},
   "source": [
    "# Task no.  09:\n",
    "#### Write a function called root that is given a number x and an integer n and returns x^(1/n). In the function definition, set the default value of n to 2.\n"
   ]
  },
  {
   "cell_type": "code",
   "execution_count": 27,
   "id": "3b7a38fd",
   "metadata": {},
   "outputs": [],
   "source": [
    "\n",
    "def root(x, n = 2):\n",
    "    return x**(1/n)\n"
   ]
  },
  {
   "cell_type": "code",
   "execution_count": 28,
   "id": "fa207c41",
   "metadata": {},
   "outputs": [
    {
     "data": {
      "text/plain": [
       "2.0"
      ]
     },
     "execution_count": 28,
     "metadata": {},
     "output_type": "execute_result"
    }
   ],
   "source": [
    "root(4)"
   ]
  },
  {
   "cell_type": "code",
   "execution_count": 29,
   "id": "4963491f",
   "metadata": {},
   "outputs": [
    {
     "data": {
      "text/plain": [
       "4.58257569495584"
      ]
     },
     "execution_count": 29,
     "metadata": {},
     "output_type": "execute_result"
    }
   ],
   "source": [
    "root(21)"
   ]
  },
  {
   "cell_type": "code",
   "execution_count": 30,
   "id": "a426aff9",
   "metadata": {},
   "outputs": [
    {
     "data": {
      "text/plain": [
       "7.0"
      ]
     },
     "execution_count": 30,
     "metadata": {},
     "output_type": "execute_result"
    }
   ],
   "source": [
    "root(49)"
   ]
  },
  {
   "cell_type": "markdown",
   "id": "06f11722",
   "metadata": {},
   "source": [
    "# Task no.  10:\n",
    "#### Write a program that asks the user for their name and how many times to print it. The program should print out the user’s name the specified number of times.\n"
   ]
  },
  {
   "cell_type": "code",
   "execution_count": 34,
   "id": "836d52e5",
   "metadata": {},
   "outputs": [
    {
     "name": "stdout",
     "output_type": "stream",
     "text": [
      "enter your name: zia\n",
      "How many times you want to print that name?3\n",
      "1. zia\n",
      "2. zia\n",
      "3. zia\n"
     ]
    }
   ],
   "source": [
    "name = input(\"enter your name: \")\n",
    "how = input(\"How many times you want to print that name?\")\n",
    "\n",
    "for i in range(0, int(how)):\n",
    "    print(f\"{i+1}. {name}\")"
   ]
  },
  {
   "cell_type": "markdown",
   "id": "ccb6611c",
   "metadata": {},
   "source": [
    "# Task no.  16:\n",
    "#### Use a for loop to print a triangle like the one below. Allow the user to specify how high the triangle should be.\n",
    "### *\n",
    "### **\n",
    "### ***\n",
    "### ****\n"
   ]
  },
  {
   "cell_type": "code",
   "execution_count": 41,
   "id": "c03acde9",
   "metadata": {},
   "outputs": [
    {
     "name": "stdout",
     "output_type": "stream",
     "text": [
      "Enter value of: 5\n",
      "*\n",
      "\n",
      "**\n",
      "\n",
      "***\n",
      "\n",
      "****\n",
      "\n",
      "*****\n",
      "\n"
     ]
    }
   ],
   "source": [
    "en = int(input(\"Enter value of: \"))\n",
    "for i in range(0, en):\n",
    "    for j in range(0, i+1):\n",
    "        print(\"*\", end=\"\")\n",
    "    print(\"\\n\")\n",
    "    "
   ]
  },
  {
   "cell_type": "code",
   "execution_count": null,
   "id": "34ef2efc",
   "metadata": {},
   "outputs": [],
   "source": []
  }
 ],
 "metadata": {
  "kernelspec": {
   "display_name": "Python 3 (ipykernel)",
   "language": "python",
   "name": "python3"
  },
  "language_info": {
   "codemirror_mode": {
    "name": "ipython",
    "version": 3
   },
   "file_extension": ".py",
   "mimetype": "text/x-python",
   "name": "python",
   "nbconvert_exporter": "python",
   "pygments_lexer": "ipython3",
   "version": "3.9.7"
  }
 },
 "nbformat": 4,
 "nbformat_minor": 5
}
