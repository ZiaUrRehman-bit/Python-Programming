{
 "cells": [
  {
   "cell_type": "code",
   "execution_count": 5,
   "id": "a75f40fd",
   "metadata": {},
   "outputs": [
    {
     "data": {
      "text/plain": [
       "(1, True, 3.14, (3-2j))"
      ]
     },
     "execution_count": 5,
     "metadata": {},
     "output_type": "execute_result"
    }
   ],
   "source": [
    "# Tuple in Python\n",
    "\n",
    "# collection of elements enclosed within ()\n",
    "# tuple is immutable, means when it created then not changed \n",
    "\n",
    "tup1 = (1, True, 3.14, 3-2j)\n",
    "tup1"
   ]
  },
  {
   "cell_type": "code",
   "execution_count": 6,
   "id": "f5124a30",
   "metadata": {},
   "outputs": [
    {
     "data": {
      "text/plain": [
       "tuple"
      ]
     },
     "execution_count": 6,
     "metadata": {},
     "output_type": "execute_result"
    }
   ],
   "source": [
    "type(tup1)"
   ]
  },
  {
   "cell_type": "code",
   "execution_count": 3,
   "id": "6d633186",
   "metadata": {},
   "outputs": [
    {
     "data": {
      "text/plain": [
       "1"
      ]
     },
     "execution_count": 3,
     "metadata": {},
     "output_type": "execute_result"
    }
   ],
   "source": [
    "tup1[0]  # extracting fist element"
   ]
  },
  {
   "cell_type": "code",
   "execution_count": 4,
   "id": "732b157a",
   "metadata": {},
   "outputs": [
    {
     "data": {
      "text/plain": [
       "(3-2j)"
      ]
     },
     "execution_count": 4,
     "metadata": {},
     "output_type": "execute_result"
    }
   ],
   "source": [
    "tup1[-1]  # extracting last element"
   ]
  },
  {
   "cell_type": "code",
   "execution_count": 5,
   "id": "b4344e67",
   "metadata": {},
   "outputs": [
    {
     "data": {
      "text/plain": [
       "(True, 3.14, (3-2j))"
      ]
     },
     "execution_count": 5,
     "metadata": {},
     "output_type": "execute_result"
    }
   ],
   "source": [
    "tup1[1:4]"
   ]
  },
  {
   "cell_type": "code",
   "execution_count": 1,
   "id": "8ec3ddd6",
   "metadata": {},
   "outputs": [
    {
     "ename": "NameError",
     "evalue": "name 'tup1' is not defined",
     "output_type": "error",
     "traceback": [
      "\u001b[1;31m---------------------------------------------------------------------------\u001b[0m",
      "\u001b[1;31mNameError\u001b[0m                                 Traceback (most recent call last)",
      "\u001b[1;32m~\\AppData\\Local\\Temp/ipykernel_7084/3153097186.py\u001b[0m in \u001b[0;36m<module>\u001b[1;34m\u001b[0m\n\u001b[1;32m----> 1\u001b[1;33m \u001b[0mtup1\u001b[0m\u001b[1;33m[\u001b[0m\u001b[1;36m2\u001b[0m\u001b[1;33m]\u001b[0m \u001b[1;33m=\u001b[0m \u001b[1;34m'hello'\u001b[0m\u001b[1;33m\u001b[0m\u001b[1;33m\u001b[0m\u001b[0m\n\u001b[0m",
      "\u001b[1;31mNameError\u001b[0m: name 'tup1' is not defined"
     ]
    }
   ],
   "source": [
    "tup1[2] = 'hello'"
   ]
  },
  {
   "cell_type": "code",
   "execution_count": 2,
   "id": "8207a380",
   "metadata": {},
   "outputs": [],
   "source": [
    "# as tuple is imutable so we cant change it"
   ]
  },
  {
   "cell_type": "code",
   "execution_count": 7,
   "id": "7cde26df",
   "metadata": {},
   "outputs": [
    {
     "data": {
      "text/plain": [
       "4"
      ]
     },
     "execution_count": 7,
     "metadata": {},
     "output_type": "execute_result"
    }
   ],
   "source": [
    "len(tup1)"
   ]
  },
  {
   "cell_type": "code",
   "execution_count": 8,
   "id": "718e28fb",
   "metadata": {},
   "outputs": [],
   "source": [
    "tup1 = (1,2,3)\n",
    "tup2 = (4,5,6)"
   ]
  },
  {
   "cell_type": "code",
   "execution_count": 9,
   "id": "c14e64b1",
   "metadata": {},
   "outputs": [
    {
     "data": {
      "text/plain": [
       "((1, 2, 3), (4, 5, 6))"
      ]
     },
     "execution_count": 9,
     "metadata": {},
     "output_type": "execute_result"
    }
   ],
   "source": [
    "tup1, tup2"
   ]
  },
  {
   "cell_type": "code",
   "execution_count": 10,
   "id": "dfad1a65",
   "metadata": {},
   "outputs": [
    {
     "data": {
      "text/plain": [
       "(1, 2, 3, 4, 5, 6)"
      ]
     },
     "execution_count": 10,
     "metadata": {},
     "output_type": "execute_result"
    }
   ],
   "source": [
    "tup1+tup2"
   ]
  },
  {
   "cell_type": "code",
   "execution_count": 11,
   "id": "6269fdb3",
   "metadata": {},
   "outputs": [
    {
     "data": {
      "text/plain": [
       "(4, 5, 6, 1, 2, 3)"
      ]
     },
     "execution_count": 11,
     "metadata": {},
     "output_type": "execute_result"
    }
   ],
   "source": [
    "tup2+tup1"
   ]
  },
  {
   "cell_type": "code",
   "execution_count": 12,
   "id": "74de127d",
   "metadata": {},
   "outputs": [
    {
     "data": {
      "text/plain": [
       "(4, 5, 6, 4, 5, 6, 1, 2, 3)"
      ]
     },
     "execution_count": 12,
     "metadata": {},
     "output_type": "execute_result"
    }
   ],
   "source": [
    "tup2*2+tup1 # this will repeat"
   ]
  },
  {
   "cell_type": "code",
   "execution_count": 13,
   "id": "0ffed312",
   "metadata": {},
   "outputs": [
    {
     "data": {
      "text/plain": [
       "1"
      ]
     },
     "execution_count": 13,
     "metadata": {},
     "output_type": "execute_result"
    }
   ],
   "source": [
    "# tuple functions\n",
    "\n",
    "# min function\n",
    "min(tup1)"
   ]
  },
  {
   "cell_type": "code",
   "execution_count": 14,
   "id": "9412ca17",
   "metadata": {},
   "outputs": [
    {
     "data": {
      "text/plain": [
       "6"
      ]
     },
     "execution_count": 14,
     "metadata": {},
     "output_type": "execute_result"
    }
   ],
   "source": [
    "# max function\n",
    "max(tup2)"
   ]
  },
  {
   "cell_type": "code",
   "execution_count": 16,
   "id": "3473409f",
   "metadata": {},
   "outputs": [
    {
     "data": {
      "text/plain": [
       "[1, 'zayan', 3.14, 'c']"
      ]
     },
     "execution_count": 16,
     "metadata": {},
     "output_type": "execute_result"
    }
   ],
   "source": [
    "# List : collection of elements enclosed in []\n",
    "\n",
    "# difference between tuple and list is : tuple is imutable and list is mutable \n",
    "\n",
    "list1 = [1, 'zayan', 3.14, \"c\"]\n",
    "list1"
   ]
  },
  {
   "cell_type": "code",
   "execution_count": 17,
   "id": "ba0eabf7",
   "metadata": {},
   "outputs": [
    {
     "data": {
      "text/plain": [
       "'zayan'"
      ]
     },
     "execution_count": 17,
     "metadata": {},
     "output_type": "execute_result"
    }
   ],
   "source": [
    "list1[1]"
   ]
  },
  {
   "cell_type": "code",
   "execution_count": 18,
   "id": "4a1e8cdb",
   "metadata": {},
   "outputs": [
    {
     "data": {
      "text/plain": [
       "'c'"
      ]
     },
     "execution_count": 18,
     "metadata": {},
     "output_type": "execute_result"
    }
   ],
   "source": [
    "list1[-1]"
   ]
  },
  {
   "cell_type": "code",
   "execution_count": 23,
   "id": "ecf3a462",
   "metadata": {},
   "outputs": [
    {
     "data": {
      "text/plain": [
       "[3.14, 'c']"
      ]
     },
     "execution_count": 23,
     "metadata": {},
     "output_type": "execute_result"
    }
   ],
   "source": [
    "list1[2:4]"
   ]
  },
  {
   "cell_type": "code",
   "execution_count": 20,
   "id": "d0a9d484",
   "metadata": {},
   "outputs": [
    {
     "data": {
      "text/plain": [
       "list"
      ]
     },
     "execution_count": 20,
     "metadata": {},
     "output_type": "execute_result"
    }
   ],
   "source": [
    "type(list1)"
   ]
  },
  {
   "cell_type": "code",
   "execution_count": 24,
   "id": "77f4c3ab",
   "metadata": {},
   "outputs": [],
   "source": [
    "# modifying the list\n",
    "list1[0] = 'zia'"
   ]
  },
  {
   "cell_type": "code",
   "execution_count": 25,
   "id": "2b31934a",
   "metadata": {},
   "outputs": [
    {
     "data": {
      "text/plain": [
       "['zia', 'zayan', 3.14, 'c']"
      ]
     },
     "execution_count": 25,
     "metadata": {},
     "output_type": "execute_result"
    }
   ],
   "source": [
    "list1"
   ]
  },
  {
   "cell_type": "code",
   "execution_count": 28,
   "id": "79ff2c18",
   "metadata": {},
   "outputs": [
    {
     "data": {
      "text/plain": [
       "['zia', 'zayan', 3.14, 'c', 33, 33, 33]"
      ]
     },
     "execution_count": 28,
     "metadata": {},
     "output_type": "execute_result"
    }
   ],
   "source": [
    "# adding new element\n",
    "list1.append(33)\n",
    "list1"
   ]
  },
  {
   "cell_type": "code",
   "execution_count": 29,
   "id": "866a25ea",
   "metadata": {},
   "outputs": [
    {
     "data": {
      "text/plain": [
       "33"
      ]
     },
     "execution_count": 29,
     "metadata": {},
     "output_type": "execute_result"
    }
   ],
   "source": [
    "list1.pop()"
   ]
  },
  {
   "cell_type": "code",
   "execution_count": 30,
   "id": "eb91962d",
   "metadata": {},
   "outputs": [
    {
     "data": {
      "text/plain": [
       "['zia', 'zayan', 3.14, 'c', 33, 33]"
      ]
     },
     "execution_count": 30,
     "metadata": {},
     "output_type": "execute_result"
    }
   ],
   "source": [
    "list1"
   ]
  },
  {
   "cell_type": "code",
   "execution_count": 31,
   "id": "a81c7162",
   "metadata": {},
   "outputs": [
    {
     "data": {
      "text/plain": [
       "33"
      ]
     },
     "execution_count": 31,
     "metadata": {},
     "output_type": "execute_result"
    }
   ],
   "source": [
    "list1.pop()"
   ]
  },
  {
   "cell_type": "code",
   "execution_count": 32,
   "id": "958069a1",
   "metadata": {},
   "outputs": [
    {
     "data": {
      "text/plain": [
       "[33, 'c', 3.14, 'zayan', 'zia']"
      ]
     },
     "execution_count": 32,
     "metadata": {},
     "output_type": "execute_result"
    }
   ],
   "source": [
    "# reverse the list\n",
    "list1.reverse()\n",
    "list1"
   ]
  },
  {
   "cell_type": "code",
   "execution_count": 33,
   "id": "cba909ef",
   "metadata": {},
   "outputs": [
    {
     "data": {
      "text/plain": [
       "[33, 'c', 3.14, 'zayan', 'zia']"
      ]
     },
     "execution_count": 33,
     "metadata": {},
     "output_type": "execute_result"
    }
   ],
   "source": [
    "list1"
   ]
  },
  {
   "cell_type": "code",
   "execution_count": 37,
   "id": "ed83dd05",
   "metadata": {},
   "outputs": [
    {
     "data": {
      "text/plain": [
       "[33, 'xx', 'xx', 'c', 3.14, 'zayan', 'zia']"
      ]
     },
     "execution_count": 37,
     "metadata": {},
     "output_type": "execute_result"
    }
   ],
   "source": [
    "list1.insert(1,\"xx\")\n",
    "list1"
   ]
  },
  {
   "cell_type": "code",
   "execution_count": 38,
   "id": "ed9930e7",
   "metadata": {},
   "outputs": [
    {
     "data": {
      "text/plain": [
       "[0, 1, 2, 4, 5, 6, 7, 9]"
      ]
     },
     "execution_count": 38,
     "metadata": {},
     "output_type": "execute_result"
    }
   ],
   "source": [
    "li = [2,5,1,7,9,6,0,4]\n",
    "li.sort()\n",
    "li"
   ]
  },
  {
   "cell_type": "code",
   "execution_count": 39,
   "id": "caf4c606",
   "metadata": {},
   "outputs": [
    {
     "data": {
      "text/plain": [
       "[33, 'xx', 'xx', 'c', 3.14, 'zayan', 'zia', 0, 1, 2, 4, 5, 6, 7, 9]"
      ]
     },
     "execution_count": 39,
     "metadata": {},
     "output_type": "execute_result"
    }
   ],
   "source": [
    "list1+li"
   ]
  },
  {
   "cell_type": "code",
   "execution_count": 40,
   "id": "3cc3024d",
   "metadata": {},
   "outputs": [
    {
     "data": {
      "text/plain": [
       "[1, 2, 3, 4, 5, 6, 7, 8, 9, 10]"
      ]
     },
     "execution_count": 40,
     "metadata": {},
     "output_type": "execute_result"
    }
   ],
   "source": [
    "# Task 01: \n",
    "# Create a list of 10 values \n",
    "# Display the elements of a list\n",
    "# Update the value of 3rd index\n",
    "# Reverse the list\n",
    "# Add 2 more elements in 2nd index and print list\n",
    "# Pop element of 1 index and display list\n",
    "\n",
    "\n",
    "l1 = [1,2,3,4,5,6,7,8,9,10]\n",
    "l1"
   ]
  },
  {
   "cell_type": "code",
   "execution_count": 41,
   "id": "d6eddf96",
   "metadata": {},
   "outputs": [
    {
     "data": {
      "text/plain": [
       "[1, 2, 3, 11, 5, 6, 7, 8, 9, 10]"
      ]
     },
     "execution_count": 41,
     "metadata": {},
     "output_type": "execute_result"
    }
   ],
   "source": [
    "l1[3] = 11\n",
    "l1"
   ]
  },
  {
   "cell_type": "code",
   "execution_count": 42,
   "id": "3e93b4ec",
   "metadata": {},
   "outputs": [
    {
     "data": {
      "text/plain": [
       "[10, 9, 8, 7, 6, 5, 11, 3, 2, 1]"
      ]
     },
     "execution_count": 42,
     "metadata": {},
     "output_type": "execute_result"
    }
   ],
   "source": [
    "l1.reverse()\n",
    "l1"
   ]
  },
  {
   "cell_type": "code",
   "execution_count": 43,
   "id": "34ed1ef2",
   "metadata": {},
   "outputs": [
    {
     "data": {
      "text/plain": [
       "[10, 9, 33, 22, 8, 7, 6, 5, 11, 3, 2, 1]"
      ]
     },
     "execution_count": 43,
     "metadata": {},
     "output_type": "execute_result"
    }
   ],
   "source": [
    "l1.insert(2,22)\n",
    "l1.insert(2,33)\n",
    "l1"
   ]
  },
  {
   "cell_type": "code",
   "execution_count": 45,
   "id": "a91d8901",
   "metadata": {},
   "outputs": [
    {
     "data": {
      "text/plain": [
       "9"
      ]
     },
     "execution_count": 45,
     "metadata": {},
     "output_type": "execute_result"
    }
   ],
   "source": [
    "l1.pop(1)"
   ]
  },
  {
   "cell_type": "code",
   "execution_count": 46,
   "id": "47891b6b",
   "metadata": {},
   "outputs": [
    {
     "data": {
      "text/plain": [
       "[10, 33, 22, 8, 7, 6, 5, 11, 3, 2, 1]"
      ]
     },
     "execution_count": 46,
     "metadata": {},
     "output_type": "execute_result"
    }
   ],
   "source": [
    "l1"
   ]
  },
  {
   "cell_type": "code",
   "execution_count": 1,
   "id": "3bc15889",
   "metadata": {},
   "outputs": [
    {
     "data": {
      "text/plain": [
       "{'apple': 20, 'banana': 50, 'orange': 30, 'mango': 100}"
      ]
     },
     "execution_count": 1,
     "metadata": {},
     "output_type": "execute_result"
    }
   ],
   "source": [
    "# Dictionary \n",
    "\n",
    "# unordered collection of key-value pairs enclosed with {}\n",
    "# it is also mutable \n",
    "\n",
    "d1 = {'apple':20,'banana':50,'orange':30,'mango':100} # apple mango etc is keys\n",
    "d1"
   ]
  },
  {
   "cell_type": "code",
   "execution_count": 2,
   "id": "ccafd6d7",
   "metadata": {},
   "outputs": [
    {
     "data": {
      "text/plain": [
       "dict"
      ]
     },
     "execution_count": 2,
     "metadata": {},
     "output_type": "execute_result"
    }
   ],
   "source": [
    "type(d1)"
   ]
  },
  {
   "cell_type": "code",
   "execution_count": 4,
   "id": "ecb1a4ab",
   "metadata": {},
   "outputs": [
    {
     "data": {
      "text/plain": [
       "dict_keys(['apple', 'banana', 'orange', 'mango'])"
      ]
     },
     "execution_count": 4,
     "metadata": {},
     "output_type": "execute_result"
    }
   ],
   "source": [
    "d1.keys() # extracting keys"
   ]
  },
  {
   "cell_type": "code",
   "execution_count": 5,
   "id": "40b22b04",
   "metadata": {},
   "outputs": [
    {
     "data": {
      "text/plain": [
       "dict_values([20, 50, 30, 100])"
      ]
     },
     "execution_count": 5,
     "metadata": {},
     "output_type": "execute_result"
    }
   ],
   "source": [
    "d1.values() # extracting values"
   ]
  },
  {
   "cell_type": "code",
   "execution_count": 6,
   "id": "95074317",
   "metadata": {},
   "outputs": [
    {
     "data": {
      "text/plain": [
       "{'apple': 20, 'banana': 50, 'orange': 30, 'mango': 100, 'strawbary': 200}"
      ]
     },
     "execution_count": 6,
     "metadata": {},
     "output_type": "execute_result"
    }
   ],
   "source": [
    "# modefying dictionary\n",
    "\n",
    "# adding new element\n",
    "\n",
    "d1[\"strawbary\"] = 200\n",
    "d1"
   ]
  },
  {
   "cell_type": "code",
   "execution_count": 7,
   "id": "892bcd49",
   "metadata": {},
   "outputs": [
    {
     "data": {
      "text/plain": [
       "{'apple': 40, 'banana': 50, 'orange': 30, 'mango': 100, 'strawbary': 200}"
      ]
     },
     "execution_count": 7,
     "metadata": {},
     "output_type": "execute_result"
    }
   ],
   "source": [
    "# changing exsisting elements\n",
    "d1[\"apple\"] = 40\n",
    "d1"
   ]
  },
  {
   "cell_type": "code",
   "execution_count": 10,
   "id": "b8c7a729",
   "metadata": {},
   "outputs": [
    {
     "data": {
      "text/plain": [
       "{'apple': 40, 'banana': 50, 'orange': 30, 'mango': 100, 'strawbary': 200}"
      ]
     },
     "execution_count": 10,
     "metadata": {},
     "output_type": "execute_result"
    }
   ],
   "source": [
    "d1[\"apple\"] = 40\n",
    "d1"
   ]
  },
  {
   "cell_type": "code",
   "execution_count": 11,
   "id": "78a6e06f",
   "metadata": {},
   "outputs": [
    {
     "data": {
      "text/plain": [
       "{'apple': 40,\n",
       " 'banana': 50,\n",
       " 'orange': 30,\n",
       " 'mango': 100,\n",
       " 'strawbary': 200,\n",
       " 'aa': 22,\n",
       " 'dd': 32}"
      ]
     },
     "execution_count": 11,
     "metadata": {},
     "output_type": "execute_result"
    }
   ],
   "source": [
    "# dictionary functions\n",
    "\n",
    "# append using update function\n",
    "d2 = {'aa':22,'dd':32}\n",
    "d1.update(d2)\n",
    "\n",
    "d1"
   ]
  },
  {
   "cell_type": "code",
   "execution_count": 12,
   "id": "336e4035",
   "metadata": {},
   "outputs": [
    {
     "data": {
      "text/plain": [
       "{'apple': 40,\n",
       " 'banana': 50,\n",
       " 'orange': 30,\n",
       " 'mango': 100,\n",
       " 'strawbary': 200,\n",
       " 'aa': 22,\n",
       " 'dd': 32}"
      ]
     },
     "execution_count": 12,
     "metadata": {},
     "output_type": "execute_result"
    }
   ],
   "source": [
    "d1"
   ]
  },
  {
   "cell_type": "code",
   "execution_count": 13,
   "id": "ae470608",
   "metadata": {},
   "outputs": [
    {
     "data": {
      "text/plain": [
       "{'apple': 40, 'banana': 50, 'orange': 30, 'strawbary': 200, 'aa': 22, 'dd': 32}"
      ]
     },
     "execution_count": 13,
     "metadata": {},
     "output_type": "execute_result"
    }
   ],
   "source": [
    "# poping element\n",
    "\n",
    "d1.pop('mango')\n",
    "d1"
   ]
  },
  {
   "cell_type": "code",
   "execution_count": 16,
   "id": "62442da9",
   "metadata": {},
   "outputs": [
    {
     "data": {
      "text/plain": [
       "{'Name': 'Zia', 'age': 27, 'occupation': 'Engineer'}"
      ]
     },
     "execution_count": 16,
     "metadata": {},
     "output_type": "execute_result"
    }
   ],
   "source": [
    "# Task 02:\n",
    "# Create dictionary \n",
    "# Display dictionary\n",
    "# Print keys and value separately\n",
    "# Insert new key-value pair \n",
    "# Copy dictionary into new dictionary  \n",
    "\n",
    "data = {'Name':'Zia', 'age':27, 'occupation':'Engineer'}\n",
    "data"
   ]
  },
  {
   "cell_type": "code",
   "execution_count": 17,
   "id": "4c7c3e82",
   "metadata": {},
   "outputs": [
    {
     "data": {
      "text/plain": [
       "dict_keys(['Name', 'age', 'occupation'])"
      ]
     },
     "execution_count": 17,
     "metadata": {},
     "output_type": "execute_result"
    }
   ],
   "source": [
    "data.keys()"
   ]
  },
  {
   "cell_type": "code",
   "execution_count": 18,
   "id": "d422dbce",
   "metadata": {},
   "outputs": [
    {
     "data": {
      "text/plain": [
       "dict_values(['Zia', 27, 'Engineer'])"
      ]
     },
     "execution_count": 18,
     "metadata": {},
     "output_type": "execute_result"
    }
   ],
   "source": [
    "data.values()"
   ]
  },
  {
   "cell_type": "code",
   "execution_count": 19,
   "id": "ed932699",
   "metadata": {},
   "outputs": [
    {
     "data": {
      "text/plain": [
       "{'Name': 'Zia', 'age': 27, 'occupation': 'Engineer', 'residence': 'Kahuta'}"
      ]
     },
     "execution_count": 19,
     "metadata": {},
     "output_type": "execute_result"
    }
   ],
   "source": [
    "data['residence'] = 'Kahuta'\n",
    "data"
   ]
  },
  {
   "cell_type": "code",
   "execution_count": 21,
   "id": "0fe6e105",
   "metadata": {},
   "outputs": [
    {
     "data": {
      "text/plain": [
       "{'email': 'abc@gmail.com', 'phone#': 3343332233}"
      ]
     },
     "execution_count": 21,
     "metadata": {},
     "output_type": "execute_result"
    }
   ],
   "source": [
    "contact = {'email':'abc@gmail.com', 'phone#': 3343332233}\n",
    "contact"
   ]
  },
  {
   "cell_type": "code",
   "execution_count": 22,
   "id": "ee79987b",
   "metadata": {},
   "outputs": [
    {
     "data": {
      "text/plain": [
       "{'Name': 'Zia',\n",
       " 'age': 27,\n",
       " 'occupation': 'Engineer',\n",
       " 'residence': 'Kahuta',\n",
       " 'email': 'abc@gmail.com',\n",
       " 'phone#': 3343332233}"
      ]
     },
     "execution_count": 22,
     "metadata": {},
     "output_type": "execute_result"
    }
   ],
   "source": [
    "data.update(contact)\n",
    "data"
   ]
  },
  {
   "cell_type": "code",
   "execution_count": 23,
   "id": "0389b0df",
   "metadata": {},
   "outputs": [
    {
     "data": {
      "text/plain": [
       "{1, 3.14, 'zia'}"
      ]
     },
     "execution_count": 23,
     "metadata": {},
     "output_type": "execute_result"
    }
   ],
   "source": [
    "# Sets\n",
    "\n",
    "# unordered and unindexed colllection of elements enclosed in {}\n",
    "# duplicates are not allowed \n",
    "# mutable\n",
    "\n",
    "\n",
    "s1 = {1,3.14,\"zia\"}\n",
    "s1"
   ]
  },
  {
   "cell_type": "code",
   "execution_count": 24,
   "id": "53cf63d8",
   "metadata": {},
   "outputs": [
    {
     "data": {
      "text/plain": [
       "{1, 3.14, 'zia'}"
      ]
     },
     "execution_count": 24,
     "metadata": {},
     "output_type": "execute_result"
    }
   ],
   "source": [
    "s1 = {1,3.14,'zia',1,3.14}\n",
    "s1"
   ]
  },
  {
   "cell_type": "code",
   "execution_count": 25,
   "id": "8fed8cc6",
   "metadata": {},
   "outputs": [
    {
     "data": {
      "text/plain": [
       "{1, 3.14, 'dd', 'zia'}"
      ]
     },
     "execution_count": 25,
     "metadata": {},
     "output_type": "execute_result"
    }
   ],
   "source": [
    "# Set operations\n",
    "\n",
    "# add element\n",
    "\n",
    "s1.add('dd')\n",
    "s1"
   ]
  },
  {
   "cell_type": "code",
   "execution_count": 26,
   "id": "f4be8ad4",
   "metadata": {},
   "outputs": [
    {
     "data": {
      "text/plain": [
       "{1, 3.14, 'dd', 'zia'}"
      ]
     },
     "execution_count": 26,
     "metadata": {},
     "output_type": "execute_result"
    }
   ],
   "source": [
    "s1"
   ]
  },
  {
   "cell_type": "code",
   "execution_count": 27,
   "id": "0a02eaa8",
   "metadata": {},
   "outputs": [
    {
     "data": {
      "text/plain": [
       "{1, 2, 3.14, 66, 'dd', 's', 'zia'}"
      ]
     },
     "execution_count": 27,
     "metadata": {},
     "output_type": "execute_result"
    }
   ],
   "source": [
    "# add multiple elements\n",
    "\n",
    "s1.update([2,'s',66])\n",
    "s1"
   ]
  },
  {
   "cell_type": "code",
   "execution_count": 28,
   "id": "53d16e83",
   "metadata": {},
   "outputs": [
    {
     "data": {
      "text/plain": [
       "{1, 2, 3.14, 66, 'dd', 's', 'zia'}"
      ]
     },
     "execution_count": 28,
     "metadata": {},
     "output_type": "execute_result"
    }
   ],
   "source": [
    "s1"
   ]
  },
  {
   "cell_type": "code",
   "execution_count": 29,
   "id": "cb99665d",
   "metadata": {},
   "outputs": [
    {
     "data": {
      "text/plain": [
       "{2, 3.14, 66, 'dd', 's', 'zia'}"
      ]
     },
     "execution_count": 29,
     "metadata": {},
     "output_type": "execute_result"
    }
   ],
   "source": [
    "# remove element\n",
    "\n",
    "s1.remove(1)\n",
    "s1"
   ]
  },
  {
   "cell_type": "code",
   "execution_count": 30,
   "id": "16a5e4ac",
   "metadata": {},
   "outputs": [
    {
     "data": {
      "text/plain": [
       "{1, 2, 3, 'a', 'b', 'c'}"
      ]
     },
     "execution_count": 30,
     "metadata": {},
     "output_type": "execute_result"
    }
   ],
   "source": [
    "# functions of set\n",
    "\n",
    "s1 = {1,2,3}\n",
    "s2 = {'a','b','c'}\n",
    "\n",
    "# union methode\n",
    "\n",
    "s1.union(s2)"
   ]
  },
  {
   "cell_type": "code",
   "execution_count": 31,
   "id": "81ce6ee8",
   "metadata": {},
   "outputs": [
    {
     "data": {
      "text/plain": [
       "set()"
      ]
     },
     "execution_count": 31,
     "metadata": {},
     "output_type": "execute_result"
    }
   ],
   "source": [
    "# intersection\n",
    "\n",
    "s1.intersection(s2)"
   ]
  },
  {
   "cell_type": "code",
   "execution_count": null,
   "id": "b9268ddb",
   "metadata": {},
   "outputs": [],
   "source": []
  }
 ],
 "metadata": {
  "kernelspec": {
   "display_name": "Python 3 (ipykernel)",
   "language": "python",
   "name": "python3"
  },
  "language_info": {
   "codemirror_mode": {
    "name": "ipython",
    "version": 3
   },
   "file_extension": ".py",
   "mimetype": "text/x-python",
   "name": "python",
   "nbconvert_exporter": "python",
   "pygments_lexer": "ipython3",
   "version": "3.9.7"
  }
 },
 "nbformat": 4,
 "nbformat_minor": 5
}
