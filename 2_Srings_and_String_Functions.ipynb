{
 "cells": [
  {
   "cell_type": "code",
   "execution_count": 3,
   "id": "8357de2f",
   "metadata": {},
   "outputs": [],
   "source": [
    "# Strings\n",
    "\n",
    "# Strings are sequence of characters enclosed with single quotes(''), \n",
    "# double quotes(\"\") or tripple quotes('''''')\n",
    "\n"
   ]
  },
  {
   "cell_type": "code",
   "execution_count": 4,
   "id": "c94f68c8",
   "metadata": {},
   "outputs": [
    {
     "data": {
      "text/plain": [
       "'\\nstring 3\\ncontaining a lot of lines\\n'"
      ]
     },
     "execution_count": 4,
     "metadata": {},
     "output_type": "execute_result"
    }
   ],
   "source": [
    "str1 = 'string1'\n",
    "str2 = \"string2\"\n",
    "str3 = '''\n",
    "strin 3\n",
    "containing a lot of lines\n",
    "'''\n",
    "str3"
   ]
  },
  {
   "cell_type": "code",
   "execution_count": 5,
   "id": "aa68b9af",
   "metadata": {},
   "outputs": [
    {
     "data": {
      "text/plain": [
       "'M'"
      ]
     },
     "execution_count": 5,
     "metadata": {},
     "output_type": "execute_result"
    }
   ],
   "source": [
    "# Extracting individual characters\n",
    "myString = 'My name is zayan'\n",
    "myString[0] # Extracting first character"
   ]
  },
  {
   "cell_type": "code",
   "execution_count": 6,
   "id": "c2e83327",
   "metadata": {},
   "outputs": [
    {
     "data": {
      "text/plain": [
       "'n'"
      ]
     },
     "execution_count": 6,
     "metadata": {},
     "output_type": "execute_result"
    }
   ],
   "source": [
    "myString[-1] # Extracting last character"
   ]
  },
  {
   "cell_type": "code",
   "execution_count": 7,
   "id": "30916a3e",
   "metadata": {},
   "outputs": [
    {
     "data": {
      "text/plain": [
       "'name is'"
      ]
     },
     "execution_count": 7,
     "metadata": {},
     "output_type": "execute_result"
    }
   ],
   "source": [
    "myString[3:10] # Extracting middle characters"
   ]
  },
  {
   "cell_type": "code",
   "execution_count": 8,
   "id": "1e278200",
   "metadata": {},
   "outputs": [
    {
     "data": {
      "text/plain": [
       "16"
      ]
     },
     "execution_count": 8,
     "metadata": {},
     "output_type": "execute_result"
    }
   ],
   "source": [
    "# String Functions\n",
    "# Finding the length\n",
    "len(myString)"
   ]
  },
  {
   "cell_type": "code",
   "execution_count": 9,
   "id": "5f269e00",
   "metadata": {},
   "outputs": [
    {
     "data": {
      "text/plain": [
       "'my name is zayan'"
      ]
     },
     "execution_count": 9,
     "metadata": {},
     "output_type": "execute_result"
    }
   ],
   "source": [
    "# converting to lower case\n",
    "myString.lower()"
   ]
  },
  {
   "cell_type": "code",
   "execution_count": 10,
   "id": "e1338945",
   "metadata": {},
   "outputs": [
    {
     "data": {
      "text/plain": [
       "'MY NAME IS ZAYAN'"
      ]
     },
     "execution_count": 10,
     "metadata": {},
     "output_type": "execute_result"
    }
   ],
   "source": [
    "# converting to upper case\n",
    "myString.upper()"
   ]
  },
  {
   "cell_type": "code",
   "execution_count": 11,
   "id": "7429deba",
   "metadata": {},
   "outputs": [
    {
     "data": {
      "text/plain": [
       "'Iy name is zayan'"
      ]
     },
     "execution_count": 11,
     "metadata": {},
     "output_type": "execute_result"
    }
   ],
   "source": [
    "# Replacing a substring\n",
    "myString.replace('M','I')"
   ]
  },
  {
   "cell_type": "code",
   "execution_count": 12,
   "id": "0f8e55c3",
   "metadata": {},
   "outputs": [
    {
     "data": {
      "text/plain": [
       "3"
      ]
     },
     "execution_count": 12,
     "metadata": {},
     "output_type": "execute_result"
    }
   ],
   "source": [
    "# Number of occurances of substring or character\n",
    "myString.count('a')"
   ]
  },
  {
   "cell_type": "code",
   "execution_count": 14,
   "id": "645e4219",
   "metadata": {},
   "outputs": [
    {
     "data": {
      "text/plain": [
       "4"
      ]
     },
     "execution_count": 14,
     "metadata": {},
     "output_type": "execute_result"
    }
   ],
   "source": [
    "# Finding the index of substrig or character \n",
    "myString.find('name')\n",
    "myString.find('a')"
   ]
  },
  {
   "cell_type": "code",
   "execution_count": 16,
   "id": "404359c1",
   "metadata": {},
   "outputs": [
    {
     "data": {
      "text/plain": [
       "['My', 'name', 'is', 'zayan']"
      ]
     },
     "execution_count": 16,
     "metadata": {},
     "output_type": "execute_result"
    }
   ],
   "source": [
    "# Spliting a string\n",
    "myString.split('i')\n",
    "myString.split(' ')"
   ]
  },
  {
   "cell_type": "code",
   "execution_count": 19,
   "id": "b0581a9d",
   "metadata": {},
   "outputs": [
    {
     "name": "stdout",
     "output_type": "stream",
     "text": [
      "Enter a long string: My name is zia \n",
      "The length of string is 15\n",
      "The first character is M and last is  \n",
      "MY NAME IS ZIA \n",
      "['My', 'name', 'is', 'zia', '']\n",
      "2\n",
      "My Artificial is zia \n",
      " aiz si eman yM\n"
     ]
    }
   ],
   "source": [
    "# Task 01: \n",
    "# Take a string (a long Statement) from user\n",
    "# Find the length of the string\n",
    "# Display the first and last character of the string\n",
    "# Capitalize all alphabets\n",
    "# Split string in to words (split using ‘ ’)\n",
    "# count the occurrence of an Alphabet (i.e : a)\n",
    "# replace the second word of a string with ‘Artificial’\n",
    "# reverse the complete string \n",
    "\n",
    "userString = input(\"Enter a long string: \")\n",
    "print(f\"The length of string is {len(userString)}\")\n",
    "print(f\"The first character is {userString[0]} and last is {userString[-1]}\")\n",
    "print(userString.upper())\n",
    "print(userString.split(' '))\n",
    "print(userString.count('a'))\n",
    "print(userString.replace('name', 'Artificial'))\n",
    "print(userString[::-1])"
   ]
  },
  {
   "cell_type": "code",
   "execution_count": null,
   "id": "f281ea09",
   "metadata": {},
   "outputs": [],
   "source": []
  }
 ],
 "metadata": {
  "kernelspec": {
   "display_name": "Python 3 (ipykernel)",
   "language": "python",
   "name": "python3"
  },
  "language_info": {
   "codemirror_mode": {
    "name": "ipython",
    "version": 3
   },
   "file_extension": ".py",
   "mimetype": "text/x-python",
   "name": "python",
   "nbconvert_exporter": "python",
   "pygments_lexer": "ipython3",
   "version": "3.9.7"
  }
 },
 "nbformat": 4,
 "nbformat_minor": 5
}
