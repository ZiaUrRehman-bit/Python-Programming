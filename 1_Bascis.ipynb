{
 "cells": [
  {
   "cell_type": "code",
   "execution_count": 21,
   "id": "5275a4e6",
   "metadata": {},
   "outputs": [
    {
     "name": "stdout",
     "output_type": "stream",
     "text": [
      "Hello World!\n"
     ]
    }
   ],
   "source": [
    "print(\"Hello World!\")"
   ]
  },
  {
   "cell_type": "code",
   "execution_count": 2,
   "id": "8cf92624",
   "metadata": {},
   "outputs": [
    {
     "data": {
      "text/plain": [
       "False"
      ]
     },
     "execution_count": 2,
     "metadata": {},
     "output_type": "execute_result"
    }
   ],
   "source": [
    "# Arithmatic Operators\n",
    "# +, -, *, /\n",
    "\n",
    "# Relational Operators\n",
    "# <, >, ==, !=       returns True or False\n",
    "\n",
    "# Logical Operators\n",
    "# &, | \n",
    "# e.g.\n",
    "a = True\n",
    "b = False\n",
    "a&b"
   ]
  },
  {
   "cell_type": "code",
   "execution_count": 3,
   "id": "5ae5f005",
   "metadata": {},
   "outputs": [
    {
     "data": {
      "text/plain": [
       "True"
      ]
     },
     "execution_count": 3,
     "metadata": {},
     "output_type": "execute_result"
    }
   ],
   "source": [
    "a|b"
   ]
  },
  {
   "cell_type": "code",
   "execution_count": 4,
   "id": "03e4caeb",
   "metadata": {},
   "outputs": [],
   "source": [
    "# Python Token\n",
    "\n",
    "# Smallest meaningful component of program\n",
    "\n",
    "# Keywords, Identifiers, Literals, Operators are tokens in python  \n",
    "# Operators already covered in above section\n",
    "\n",
    "# keywords\n",
    "\n",
    "# Keywords are the special reserved words e.g. False, clas, Try, if etc. and \n",
    "# we are not able to use as variable name\n",
    "\n",
    "# Identifiers \n",
    "\n",
    "# Identifiers are names used for variables, function or objects\n",
    "# Some Rules: First letter can't be a digit, no special characters in start \n",
    "# like _, and also case sensitive\n",
    "\n",
    "# Literals\n",
    "\n",
    "# Literals are constants in Python, which are not changed\n"
   ]
  },
  {
   "cell_type": "code",
   "execution_count": 5,
   "id": "009de75d",
   "metadata": {},
   "outputs": [
    {
     "name": "stdout",
     "output_type": "stream",
     "text": [
      "The value of a = 2, and its type is <class 'int'>\n"
     ]
    }
   ],
   "source": [
    "# Task 01: Create variable of all types, print values and the types of all \n",
    "# variables.\n",
    "\n",
    "a = 2\n",
    "print(f\"The value of a = {a}, and its type is {type(a)}\")"
   ]
  },
  {
   "cell_type": "code",
   "execution_count": 6,
   "id": "a26dce2b",
   "metadata": {},
   "outputs": [
    {
     "name": "stdout",
     "output_type": "stream",
     "text": [
      "The value of a = 3.14, and its type is <class 'float'>\n"
     ]
    }
   ],
   "source": [
    "b = 3.14\n",
    "print(f\"The value of a = {b}, and its type is {type(b)}\")"
   ]
  },
  {
   "cell_type": "code",
   "execution_count": 7,
   "id": "f41b1c49",
   "metadata": {},
   "outputs": [
    {
     "name": "stdout",
     "output_type": "stream",
     "text": [
      "The value of a = Zayan, and its type is <class 'str'>\n"
     ]
    }
   ],
   "source": [
    "c = \"Zayan\"\n",
    "print(f\"The value of a = {c}, and its type is {type(c)}\")"
   ]
  },
  {
   "cell_type": "code",
   "execution_count": 8,
   "id": "3aee9397",
   "metadata": {},
   "outputs": [
    {
     "name": "stdout",
     "output_type": "stream",
     "text": [
      "The value of a = True, and its type is <class 'bool'>\n"
     ]
    }
   ],
   "source": [
    "d = True\n",
    "print(f\"The value of a = {d}, and its type is {type(d)}\")"
   ]
  },
  {
   "cell_type": "code",
   "execution_count": 9,
   "id": "05273a3a",
   "metadata": {},
   "outputs": [
    {
     "name": "stdout",
     "output_type": "stream",
     "text": [
      "The value of a = c, and its type is <class 'str'>\n"
     ]
    }
   ],
   "source": [
    "e = 'c' \n",
    "print(f\"The value of a = {e}, and its type is {type(e)}\")"
   ]
  },
  {
   "cell_type": "code",
   "execution_count": 10,
   "id": "0a1e27b7",
   "metadata": {},
   "outputs": [
    {
     "name": "stdout",
     "output_type": "stream",
     "text": [
      "The value of a = ('zia', 'Zayan'), and its type is <class 'tuple'>\n"
     ]
    }
   ],
   "source": [
    "f = \"zia\",\"Zayan\"\n",
    "print(f\"The value of a = {f}, and its type is {type(f)}\")"
   ]
  },
  {
   "cell_type": "code",
   "execution_count": 11,
   "id": "fe5a07fc",
   "metadata": {},
   "outputs": [
    {
     "name": "stdout",
     "output_type": "stream",
     "text": [
      "The value of a = (2+3j), and its type is <class 'complex'>\n"
     ]
    }
   ],
   "source": [
    "g = 2+3j\n",
    "print(f\"The value of a = {g}, and its type is {type(g)}\")"
   ]
  },
  {
   "cell_type": "code",
   "execution_count": 20,
   "id": "dbbe264c",
   "metadata": {},
   "outputs": [
    {
     "name": "stdout",
     "output_type": "stream",
     "text": [
      "Enter two integer values to perform Artimatic and Logical Opeartions: 2 4\n",
      "Addition = 6, Subtration = -2, Multiplication = 8, Division = 0.5\n",
      "Logical AND = 0, Logical OR = 6\n",
      "Equality = False, greater = False, less = True, not equal = True \n"
     ]
    }
   ],
   "source": [
    "# Task 02: Take input from user (two integers) and perform all arithmetic and \n",
    "# logical operation on it and print results on display.\n",
    "\n",
    "n1,n2 = input(\"Enter two integer values to perform Artimatic and Logical Opeartions: \").split(' ')\n",
    "n1 = int(n1)\n",
    "n2 = int(n2)\n",
    "print(f\"Addition = {n1+n2}, Subtration = {n1-n2}, Multiplication = {n1*n2}, Division = {n1/n2}\")\n",
    "print(f\"Logical AND = {n1&n2}, Logical OR = {n1|n2}\")\n",
    "print(f\"Equality = {n1==n2}, greater = {n1>n2}, less = {n1<n2}, not equal = {n1!=n2} \")"
   ]
  },
  {
   "cell_type": "code",
   "execution_count": null,
   "id": "dc6a9d3d",
   "metadata": {},
   "outputs": [],
   "source": []
  }
 ],
 "metadata": {
  "kernelspec": {
   "display_name": "Python 3 (ipykernel)",
   "language": "python",
   "name": "python3"
  },
  "language_info": {
   "codemirror_mode": {
    "name": "ipython",
    "version": 3
   },
   "file_extension": ".py",
   "mimetype": "text/x-python",
   "name": "python",
   "nbconvert_exporter": "python",
   "pygments_lexer": "ipython3",
   "version": "3.9.7"
  }
 },
 "nbformat": 4,
 "nbformat_minor": 5
}
