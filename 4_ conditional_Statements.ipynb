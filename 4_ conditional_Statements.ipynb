{
 "cells": [
  {
   "cell_type": "markdown",
   "id": "8afd63bb",
   "metadata": {},
   "source": [
    "# Contional Statements"
   ]
  },
  {
   "cell_type": "code",
   "execution_count": 2,
   "id": "266d590e",
   "metadata": {},
   "outputs": [
    {
     "name": "stdout",
     "output_type": "stream",
     "text": [
      "b is greater than a\n"
     ]
    }
   ],
   "source": [
    "## If else statement\n",
    "\n",
    "a = 10\n",
    "b = 20\n",
    "\n",
    "if a > b: \n",
    "    print(\"a is greater than b\")\n",
    "else: \n",
    "    print(\"b is greater than a\")\n",
    "    "
   ]
  },
  {
   "cell_type": "code",
   "execution_count": 3,
   "id": "ad776f70",
   "metadata": {},
   "outputs": [
    {
     "name": "stdout",
     "output_type": "stream",
     "text": [
      "Enter three integer to compare: 3 2 8\n",
      "8 is greater value than others\n"
     ]
    }
   ],
   "source": [
    "a,b,c = input(\"Enter three integer to compare: \").split(' ')\n",
    "a = int(a)\n",
    "b = int(b)\n",
    "c = int(c)\n",
    "\n",
    "if (a > b) & (a > c):\n",
    "    print(f\"{a} is greater value than others\")\n",
    "elif (b > a) & (b > c):\n",
    "    print(f\"{b} is greater value than others\")\n",
    "elif (c > a) & (c > b):\n",
    "    print(f\"{c} is greater value than others\")"
   ]
  },
  {
   "cell_type": "code",
   "execution_count": 4,
   "id": "e24d9604",
   "metadata": {},
   "outputs": [
    {
     "name": "stdout",
     "output_type": "stream",
     "text": [
      "value present in tup1\n"
     ]
    }
   ],
   "source": [
    "# if in tuple\n",
    "\n",
    "tup1 = ('a', 3, 8.11)\n",
    "\n",
    "if 3 in tup1:\n",
    "    print(\"value present in tup1\")"
   ]
  },
  {
   "cell_type": "code",
   "execution_count": 5,
   "id": "15e45159",
   "metadata": {},
   "outputs": [
    {
     "data": {
      "text/plain": [
       "[1, 4, 4, 7, 8]"
      ]
     },
     "execution_count": 5,
     "metadata": {},
     "output_type": "execute_result"
    }
   ],
   "source": [
    "# if with list\n",
    "\n",
    "l1 = [1,2,4,7,8]\n",
    "\n",
    "if l1[1] == 2:\n",
    "    l1[1] = 4\n",
    "l1"
   ]
  },
  {
   "cell_type": "code",
   "execution_count": 6,
   "id": "76f896cf",
   "metadata": {},
   "outputs": [
    {
     "data": {
      "text/plain": [
       "{'k1': 10, 'k2': 20, 'k3': 30}"
      ]
     },
     "execution_count": 6,
     "metadata": {},
     "output_type": "execute_result"
    }
   ],
   "source": [
    "# if with dictionary\n",
    "\n",
    "d1 = {'k1':10, 'k2':20, 'k3':30}\n",
    "d1"
   ]
  },
  {
   "cell_type": "code",
   "execution_count": 7,
   "id": "a82d29a3",
   "metadata": {},
   "outputs": [
    {
     "data": {
      "text/plain": [
       "{'k1': 10, 'k2': 33, 'k3': 30}"
      ]
     },
     "execution_count": 7,
     "metadata": {},
     "output_type": "execute_result"
    }
   ],
   "source": [
    "if d1['k2'] == 20:\n",
    "    d1['k2'] = 33\n",
    "d1"
   ]
  },
  {
   "cell_type": "markdown",
   "id": "2dcc8bbb",
   "metadata": {},
   "source": [
    "# Loop statements"
   ]
  },
  {
   "cell_type": "code",
   "execution_count": 9,
   "id": "ebcb0d7e",
   "metadata": {},
   "outputs": [
    {
     "name": "stdout",
     "output_type": "stream",
     "text": [
      "1 2 3 4 5 6 7 8 9 10 "
     ]
    }
   ],
   "source": [
    "# While Loop\n",
    "\n",
    "i = 1\n",
    "while i <= 10:\n",
    "    print(i, end=' ')   # end = ' ' this will end new line after each iteration\n",
    "    i += 1"
   ]
  },
  {
   "cell_type": "code",
   "execution_count": 13,
   "id": "b566b588",
   "metadata": {},
   "outputs": [
    {
     "name": "stdout",
     "output_type": "stream",
     "text": [
      "2 * 1 = 2\n",
      "2 * 2 = 4\n",
      "2 * 3 = 6\n",
      "2 * 4 = 8\n",
      "2 * 5 = 10\n",
      "2 * 6 = 12\n",
      "2 * 7 = 14\n",
      "2 * 8 = 16\n",
      "2 * 9 = 18\n",
      "2 * 10 = 20\n"
     ]
    }
   ],
   "source": [
    "i = 1\n",
    "t = 2\n",
    "while i <= 10:\n",
    "    print(f'{t} * {i} = {t*i}')\n",
    "    i += 1"
   ]
  },
  {
   "cell_type": "code",
   "execution_count": 19,
   "id": "831104aa",
   "metadata": {},
   "outputs": [
    {
     "name": "stdout",
     "output_type": "stream",
     "text": [
      "1 + 100 = 101\n",
      "2 + 100 = 102\n",
      "3 + 100 = 103\n",
      "4 + 100 = 104\n",
      "5 + 100 = 105\n"
     ]
    },
    {
     "data": {
      "text/plain": [
       "[101, 102, 103, 104, 105]"
      ]
     },
     "execution_count": 19,
     "metadata": {},
     "output_type": "execute_result"
    }
   ],
   "source": [
    "# while with List \n",
    "\n",
    "l1 = [1, 2, 3, 4, 5]\n",
    "\n",
    "# add 100 in each value of list\n",
    "\n",
    "i = 0\n",
    "while i < len(l1):\n",
    "    print(f'{l1[i]} + 100 = {l1[i] + 100}')\n",
    "    l1[i] = l1[i] + 100\n",
    "    i +=1\n",
    "l1"
   ]
  },
  {
   "cell_type": "code",
   "execution_count": 22,
   "id": "9f31dd2a",
   "metadata": {},
   "outputs": [
    {
     "name": "stdout",
     "output_type": "stream",
     "text": [
      "orange\n",
      "apple\n",
      "mango\n",
      "banana\n"
     ]
    }
   ],
   "source": [
    "# For loop\n",
    "\n",
    "# used for iterate over sequence (tuple, list, dictionary..)\n",
    "# syntax  \n",
    "# for val in sequence:\n",
    "    # body of for\n",
    "    \n",
    "# loop with list\n",
    "\n",
    "l1 = ['orange', 'apple', 'mango', 'banana']\n",
    "\n",
    "for i in l1:\n",
    "    print(i)"
   ]
  },
  {
   "cell_type": "code",
   "execution_count": 23,
   "id": "c3778fe8",
   "metadata": {},
   "outputs": [
    {
     "name": "stdout",
     "output_type": "stream",
     "text": [
      "red chair\n",
      "red apple\n",
      "red marker\n",
      "green chair\n",
      "green apple\n",
      "green marker\n",
      "blue chair\n",
      "blue apple\n",
      "blue marker\n"
     ]
    }
   ],
   "source": [
    "# nested for loop\n",
    "\n",
    "l1 = ['red', 'green', 'blue']\n",
    "l2 = ['chair','apple','marker']\n",
    "\n",
    "for i in l1:\n",
    "    for j in l2:\n",
    "        print(i,j)"
   ]
  },
  {
   "cell_type": "markdown",
   "id": "bf4222c0",
   "metadata": {},
   "source": [
    "# Task 01 Implement for loop, remove newline, inserting character/symbol in between characters using print statement"
   ]
  },
  {
   "cell_type": "code",
   "execution_count": 24,
   "id": "7fcbe723",
   "metadata": {},
   "outputs": [
    {
     "name": "stdout",
     "output_type": "stream",
     "text": [
      "Z\n",
      "i\n",
      "a\n",
      "U\n",
      "r\n",
      "R\n",
      "e\n",
      "h\n",
      "m\n",
      "a\n",
      "n\n"
     ]
    }
   ],
   "source": [
    "for i in \"ZiaUrRehman\":\n",
    "    print(i)"
   ]
  },
  {
   "cell_type": "code",
   "execution_count": 25,
   "id": "78fcac4d",
   "metadata": {},
   "outputs": [
    {
     "name": "stdout",
     "output_type": "stream",
     "text": [
      "Z*i*a*U*r*R*e*h*m*a*n*"
     ]
    }
   ],
   "source": [
    "for i in \"ZiaUrRehman\":\n",
    "    print(i,end='*')"
   ]
  },
  {
   "cell_type": "code",
   "execution_count": 26,
   "id": "84b61cf3",
   "metadata": {},
   "outputs": [
    {
     "name": "stdout",
     "output_type": "stream",
     "text": [
      "1\n",
      "2\n",
      "3\n",
      "4\n"
     ]
    }
   ],
   "source": [
    "# perform above task with list\n",
    "\n",
    "l1 = [1,2,3,4]\n",
    "\n",
    "for i in l1:\n",
    "    print(i)"
   ]
  },
  {
   "cell_type": "code",
   "execution_count": 27,
   "id": "637ee738",
   "metadata": {},
   "outputs": [
    {
     "name": "stdout",
     "output_type": "stream",
     "text": [
      "1 2 3 4 "
     ]
    }
   ],
   "source": [
    "for i in l1:\n",
    "    print(i,end=' ')"
   ]
  },
  {
   "cell_type": "code",
   "execution_count": 28,
   "id": "b60b8cba",
   "metadata": {},
   "outputs": [
    {
     "name": "stdout",
     "output_type": "stream",
     "text": [
      "1\n",
      "2\n",
      "3\n",
      "4\n",
      "5\n",
      "6\n",
      "7\n",
      "8\n",
      "9\n",
      "10\n"
     ]
    }
   ],
   "source": [
    "# printing counting from 1 to 10 using in range function\n",
    "\n",
    "for i in range(1,11):\n",
    "    print(i)"
   ]
  },
  {
   "cell_type": "code",
   "execution_count": 29,
   "id": "8c8a39ab",
   "metadata": {},
   "outputs": [
    {
     "name": "stdout",
     "output_type": "stream",
     "text": [
      "enter integer: 4\n",
      "4 * 1 = 4\n",
      "4 * 2 = 8\n",
      "4 * 3 = 12\n",
      "4 * 4 = 16\n",
      "4 * 5 = 20\n",
      "4 * 6 = 24\n",
      "4 * 7 = 28\n",
      "4 * 8 = 32\n",
      "4 * 9 = 36\n",
      "4 * 10 = 40\n"
     ]
    }
   ],
   "source": [
    "# print table of any number\n",
    "\n",
    "num = int(input(\"enter integer: \"))\n",
    "\n",
    "for i in range(1,11):\n",
    "    print(f'{num} * {i} = {num * i}')"
   ]
  },
  {
   "cell_type": "code",
   "execution_count": 34,
   "id": "b3b70ce8",
   "metadata": {},
   "outputs": [
    {
     "name": "stdout",
     "output_type": "stream",
     "text": [
      "Name  =  zia\n",
      "age  =  27\n",
      "qualification  =  Computer Engineer\n"
     ]
    }
   ],
   "source": [
    "# printing the keys and values of dictionary using for loop\n",
    "\n",
    "d1 = {'Name':'zia', 'age':'27', 'qualification':'Computer Engineer'}\n",
    "\n",
    "for i in d1:\n",
    "    print(i,' = ',d1[i])"
   ]
  },
  {
   "cell_type": "code",
   "execution_count": 38,
   "id": "5ce7313e",
   "metadata": {},
   "outputs": [
    {
     "name": "stdout",
     "output_type": "stream",
     "text": [
      "0 2 4 6 8 10 12 14 16 18 20 22 24 26 28 30 32 34 36 38 40 42 44 46 48 50 52 54 56 58 60 62 64 66 68 70 72 74 76 78 80 82 84 86 88 90 92 94 96 98 "
     ]
    }
   ],
   "source": [
    "# print even numbers \n",
    "\n",
    "for i in range (0,100,2):\n",
    "    print(f'{i}',end= ' ')"
   ]
  },
  {
   "cell_type": "code",
   "execution_count": 39,
   "id": "a709f1c9",
   "metadata": {},
   "outputs": [
    {
     "name": "stdout",
     "output_type": "stream",
     "text": [
      "0 2 4 6 8 10 12 14 16 18 20 22 24 26 28 30 32 34 36 38 40 42 44 46 48 50 52 54 56 58 60 62 64 66 68 70 72 74 76 78 80 82 84 86 88 90 92 94 96 98 "
     ]
    }
   ],
   "source": [
    "for i in range (0,100):\n",
    "    if i%2 == 0:\n",
    "        print(f'{i}',end= ' ')"
   ]
  },
  {
   "cell_type": "code",
   "execution_count": 48,
   "id": "b24f62f9",
   "metadata": {},
   "outputs": [
    {
     "name": "stdout",
     "output_type": "stream",
     "text": [
      "6 16 26 36 46 56 66 76 86 96 \n",
      "10\n"
     ]
    }
   ],
   "source": [
    "# print even with size 5 in range of 1 to 101 and count them\n",
    "\n",
    "count = 0\n",
    "\n",
    "for i in range(1,101,5):\n",
    "    if i%2 == 0:\n",
    "        print(i,end=' ')\n",
    "        count +=1;\n",
    "\n",
    "print(f'\\n{count}')\n"
   ]
  },
  {
   "cell_type": "code",
   "execution_count": null,
   "id": "0c74739b",
   "metadata": {},
   "outputs": [],
   "source": [
    "# Take input from user and store in list using for loop\n",
    "\n",
    "lis = []\n",
    "\n",
    "for i in range (1,11):\n",
    "    a = input(\"enter numbers: \")\n",
    "    lis.append(a)\n",
    "lis"
   ]
  },
  {
   "cell_type": "code",
   "execution_count": null,
   "id": "b5ab7b74",
   "metadata": {},
   "outputs": [],
   "source": []
  },
  {
   "cell_type": "code",
   "execution_count": null,
   "id": "3dfb1a58",
   "metadata": {},
   "outputs": [],
   "source": []
  },
  {
   "cell_type": "code",
   "execution_count": null,
   "id": "6d2afd33",
   "metadata": {},
   "outputs": [],
   "source": []
  }
 ],
 "metadata": {
  "kernelspec": {
   "display_name": "Python 3 (ipykernel)",
   "language": "python",
   "name": "python3"
  },
  "language_info": {
   "codemirror_mode": {
    "name": "ipython",
    "version": 3
   },
   "file_extension": ".py",
   "mimetype": "text/x-python",
   "name": "python",
   "nbconvert_exporter": "python",
   "pygments_lexer": "ipython3",
   "version": "3.9.7"
  }
 },
 "nbformat": 4,
 "nbformat_minor": 5
}
